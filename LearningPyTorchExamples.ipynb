{
 "cells": [
  {
   "cell_type": "markdown",
   "metadata": {},
   "source": [
    "# Learning PyTorch with Examples"
   ]
  },
  {
   "cell_type": "markdown",
   "metadata": {},
   "source": [
    "https://pytorch.org/tutorials/beginner/pytorch_with_examples.html"
   ]
  },
  {
   "cell_type": "code",
   "execution_count": 6,
   "metadata": {},
   "outputs": [],
   "source": [
    "import numpy as np\n",
    "import math\n",
    "import torch\n",
    "import torchvision\n",
    "import matplotlib.pyplot as plt"
   ]
  },
  {
   "cell_type": "markdown",
   "metadata": {},
   "source": [
    "## Tensors"
   ]
  },
  {
   "cell_type": "code",
   "execution_count": 14,
   "metadata": {},
   "outputs": [
    {
     "name": "stdout",
     "output_type": "stream",
     "text": [
      "Iteration: 99 \n",
      "loss: 782.5994873046875\n",
      "Iteration: 199 \n",
      "loss: 547.6012573242188\n",
      "Iteration: 299 \n",
      "loss: 384.28106689453125\n",
      "Iteration: 399 \n",
      "loss: 270.67474365234375\n",
      "Iteration: 499 \n",
      "loss: 191.58172607421875\n",
      "Iteration: 599 \n",
      "loss: 136.4716033935547\n",
      "Iteration: 699 \n",
      "loss: 98.04182434082031\n",
      "Iteration: 799 \n",
      "loss: 71.22300720214844\n",
      "Iteration: 899 \n",
      "loss: 52.49333190917969\n",
      "Iteration: 999 \n",
      "loss: 39.40369415283203\n",
      "Iteration: 1099 \n",
      "loss: 30.249523162841797\n",
      "Iteration: 1199 \n",
      "loss: 23.843446731567383\n",
      "Iteration: 1299 \n",
      "loss: 19.357749938964844\n",
      "Iteration: 1399 \n",
      "loss: 16.214862823486328\n",
      "Iteration: 1499 \n",
      "loss: 14.011587142944336\n",
      "Iteration: 1599 \n",
      "loss: 12.466182708740234\n",
      "Iteration: 1699 \n",
      "loss: 11.381658554077148\n",
      "Iteration: 1799 \n",
      "loss: 10.620211601257324\n",
      "Iteration: 1899 \n",
      "loss: 10.085333824157715\n",
      "Iteration: 1999 \n",
      "loss: 9.709456443786621\n",
      "Result: y = -0.030294794589281082 + 0.848427414894104x + 0.005226354114711285 x^2 + -0.09214787185192108 x^3\n"
     ]
    }
   ],
   "source": [
    "dtype =  torch.float\n",
    "device  = torch.device(\"cpu\")\n",
    "\n",
    "x = torch.linspace(-math.pi, math.pi, 2000, device=device, dtype=dtype)\n",
    "y = torch.sin(x)\n",
    "\n",
    "a = torch.randn((), device=device, dtype=dtype)\n",
    "b = torch.randn((), device=device, dtype=dtype)\n",
    "c = torch.randn((), device=device, dtype=dtype)\n",
    "d = torch.randn((), device=device, dtype=dtype)\n",
    "\n",
    "\n",
    "learning_rate = 1e-6\n",
    "for t in range(2000):\n",
    "    \n",
    "    #Prediction in the form of a cubic function\n",
    "    y_pred = a + b * x + c * x ** 2 + d * x ** 3\n",
    "    \n",
    "    #Loss\n",
    "    loss =  (y_pred - y).pow(2).sum().item()\n",
    "    \n",
    "    #print for every thousand iterations\n",
    "    if t % 100 == 99:\n",
    "        print(\"Iteration:\", t, \"\\nloss:\", loss)\n",
    "        \n",
    "    #Backprop to compute gradients with respect to loss\n",
    "    grad_y_pred = 2.0 * (y_pred - y)\n",
    "    grad_a = grad_y_pred.sum()\n",
    "    grad_b = (grad_y_pred * x).sum()\n",
    "    grad_c = (grad_y_pred * x ** 2).sum()\n",
    "    grad_d = (grad_y_pred * x ** 3).sum()\n",
    "    \n",
    "    #Update weights with gradient descent\n",
    "    a -= learning_rate * grad_a\n",
    "    b -= learning_rate * grad_b\n",
    "    c -= learning_rate * grad_c\n",
    "    d -= learning_rate * grad_d\n",
    "\n",
    "print(f'Result: y = {a.item()} + {b.item()}x + {c.item()} x^2 + {d.item()} x^3')\n",
    "    "
   ]
  },
  {
   "cell_type": "markdown",
   "metadata": {},
   "source": [
    "# Observations"
   ]
  },
  {
   "cell_type": "markdown",
   "metadata": {},
   "source": [
    "This is a simple algorithm that utilizes gradient descent to find an approximation to $sin(x)$ with a learned cubic polynomial $a + bx + cx^2 + dx^3$. Notably the mechanics of torch can be utilized to use CPU or GPU acceleration. The data for each of the Torch objects can also be specified.\n",
    "\n",
    "This examples appears to be very similar to numpy except with GPU acceleration and better control of typing."
   ]
  }
 ],
 "metadata": {
  "kernelspec": {
   "display_name": "Python 3",
   "language": "python",
   "name": "python3"
  },
  "language_info": {
   "codemirror_mode": {
    "name": "ipython",
    "version": 3
   },
   "file_extension": ".py",
   "mimetype": "text/x-python",
   "name": "python",
   "nbconvert_exporter": "python",
   "pygments_lexer": "ipython3",
   "version": "3.7.4"
  }
 },
 "nbformat": 4,
 "nbformat_minor": 4
}
