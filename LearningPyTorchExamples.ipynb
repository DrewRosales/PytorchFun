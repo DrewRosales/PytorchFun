{
 "cells": [
  {
   "cell_type": "markdown",
   "metadata": {},
   "source": [
    "# Learning PyTorch with Examples"
   ]
  },
  {
   "cell_type": "markdown",
   "metadata": {},
   "source": [
    "https://pytorch.org/tutorials/beginner/pytorch_with_examples.html"
   ]
  },
  {
   "cell_type": "code",
   "execution_count": 2,
   "metadata": {},
   "outputs": [],
   "source": [
    "import numpy as np\n",
    "import math\n",
    "import torch\n",
    "import torchvision\n",
    "import matplotlib.pyplot as plt"
   ]
  },
  {
   "cell_type": "markdown",
   "metadata": {},
   "source": [
    "## Tensors"
   ]
  },
  {
   "cell_type": "code",
   "execution_count": 12,
   "metadata": {},
   "outputs": [
    {
     "name": "stdout",
     "output_type": "stream",
     "text": [
      "Iteration: 99 \n",
      "loss: 997.5477905273438\n",
      "Iteration: 199 \n",
      "loss: 685.270263671875\n",
      "Iteration: 299 \n",
      "loss: 472.1541748046875\n",
      "Iteration: 399 \n",
      "loss: 326.544189453125\n",
      "Iteration: 499 \n",
      "loss: 226.942626953125\n",
      "Iteration: 599 \n",
      "loss: 158.73399353027344\n",
      "Iteration: 699 \n",
      "loss: 111.97013854980469\n",
      "Iteration: 799 \n",
      "loss: 79.87225341796875\n",
      "Iteration: 899 \n",
      "loss: 57.8158073425293\n",
      "Iteration: 999 \n",
      "loss: 42.64226531982422\n",
      "Iteration: 1099 \n",
      "loss: 32.19221496582031\n",
      "Iteration: 1199 \n",
      "loss: 24.98740005493164\n",
      "Iteration: 1299 \n",
      "loss: 20.014644622802734\n",
      "Iteration: 1399 \n",
      "loss: 16.57879066467285\n",
      "Iteration: 1499 \n",
      "loss: 14.202404022216797\n",
      "Iteration: 1599 \n",
      "loss: 12.557086944580078\n",
      "Iteration: 1699 \n",
      "loss: 11.416814804077148\n",
      "Iteration: 1799 \n",
      "loss: 10.625794410705566\n",
      "Iteration: 1899 \n",
      "loss: 10.07652759552002\n",
      "Iteration: 1999 \n",
      "loss: 9.69480037689209\n",
      "Result: y = 0.02768823131918907 + 0.8432229161262512x + -0.004776681307703257 x^2 + -0.09140757471323013 x^3\n"
     ]
    }
   ],
   "source": [
    "dtype =  torch.float\n",
    "device  = torch.device(\"cpu\")\n",
    "\n",
    "x = torch.linspace(-math.pi, math.pi, 2000, device=device, dtype=dtype)\n",
    "y = torch.sin(x)\n",
    "\n",
    "a = torch.randn((), device=device, dtype=dtype)\n",
    "b = torch.randn((), device=device, dtype=dtype)\n",
    "c = torch.randn((), device=device, dtype=dtype)\n",
    "d = torch.randn((), device=device, dtype=dtype)\n",
    "\n",
    "\n",
    "learning_rate = 1e-6\n",
    "for t in range(2000):\n",
    "    \n",
    "    #Prediction in the form of a cubic function\n",
    "    y_pred = a + b * x + c * x ** 2 + d * x ** 3\n",
    "    \n",
    "    #Loss\n",
    "    loss =  (y_pred - y).pow(2).sum().item()\n",
    "    \n",
    "    #print for every thousand iterations\n",
    "    if t % 100 == 99:\n",
    "        print(\"Iteration:\", t, \"\\nloss:\", loss)\n",
    "        \n",
    "    #Backprop to compute gradients with respect to loss, manually calculated\n",
    "    grad_y_pred = 2.0 * (y_pred - y)\n",
    "    grad_a = grad_y_pred.sum()\n",
    "    grad_b = (grad_y_pred * x).sum()\n",
    "    grad_c = (grad_y_pred * x ** 2).sum()\n",
    "    grad_d = (grad_y_pred * x ** 3).sum()\n",
    "    \n",
    "    #Update weights with gradient descent\n",
    "    a -= learning_rate * grad_a\n",
    "    b -= learning_rate * grad_b\n",
    "    c -= learning_rate * grad_c\n",
    "    d -= learning_rate * grad_d\n",
    "\n",
    "print(f'Result: y = {a.item()} + {b.item()}x + {c.item()} x^2 + {d.item()} x^3')\n",
    "    "
   ]
  },
  {
   "cell_type": "markdown",
   "metadata": {},
   "source": [
    "## Observations"
   ]
  },
  {
   "cell_type": "markdown",
   "metadata": {},
   "source": [
    "This is a simple algorithm that utilizes gradient descent to find an approximation to $sin(x)$ with a learned cubic polynomial $a + bx + cx^2 + dx^3$. Notably the mechanics of torch can be utilized to use CPU or GPU acceleration. The data for each of the Torch objects can also be specified.\n",
    "\n",
    "This examples appears to be very similar to numpy except with GPU acceleration and better control of typing."
   ]
  },
  {
   "cell_type": "markdown",
   "metadata": {},
   "source": [
    "# Autograd"
   ]
  },
  {
   "cell_type": "markdown",
   "metadata": {},
   "source": [
    "## Observations"
   ]
  },
  {
   "cell_type": "markdown",
   "metadata": {},
   "source": [
    "Notice that notable changes include \"requires_grad=True\" a parameter add to the torch objects to  indicate if the tensor, object of torch, needs to have its gradient calculated. This parameter is captured as false by default.\n",
    "\n",
    "The backpropogation of the loss is simply found using the following:\n",
    "\n",
    "loss.backward()\n",
    "\n",
    "This is effective because it uses auto-differentiation after calculating the gradients for a, b, c, and d.\n",
    "\n",
    "A following example where a class for another function to differentiate can be made with \"torch.autograd.Function\" as a subclass of the created function and implementing forward and backward methods for auto-differentiation"
   ]
  },
  {
   "cell_type": "markdown",
   "metadata": {},
   "source": [
    "## nn Module"
   ]
  },
  {
   "cell_type": "code",
   "execution_count": 13,
   "metadata": {},
   "outputs": [
    {
     "name": "stdout",
     "output_type": "stream",
     "text": [
      "99 1333.317138671875\n",
      "199 891.6704711914062\n",
      "299 597.5769653320312\n",
      "399 401.6537170410156\n",
      "499 271.07073974609375\n",
      "599 183.9946746826172\n",
      "699 125.90037536621094\n",
      "799 87.12100219726562\n",
      "899 61.22007369995117\n",
      "999 43.91058349609375\n",
      "1099 32.33544158935547\n",
      "1199 24.589935302734375\n",
      "1299 19.40355682373047\n",
      "1399 15.92824935913086\n",
      "1499 13.59780216217041\n",
      "1599 12.033838272094727\n",
      "1699 10.983478546142578\n",
      "1799 10.277424812316895\n",
      "1899 9.80244255065918\n",
      "1999 9.48260498046875\n",
      "Result: y = 0.015420329757034779 + 0.8360465168952942 x + -0.0026602635625749826 x^2 + -0.09038680046796799 x^3\n"
     ]
    }
   ],
   "source": [
    "# -*- coding: utf-8 -*-\n",
    "import torch\n",
    "import math\n",
    "\n",
    "\n",
    "# Create Tensors to hold input and outputs.\n",
    "x = torch.linspace(-math.pi, math.pi, 2000)\n",
    "y = torch.sin(x)\n",
    "\n",
    "# For this example, the output y is a linear function of (x, x^2, x^3), so\n",
    "# we can consider it as a linear layer neural network. Let's prepare the\n",
    "# tensor (x, x^2, x^3).\n",
    "p = torch.tensor([1, 2, 3])\n",
    "xx = x.unsqueeze(-1).pow(p)\n",
    "\n",
    "# In the above code, x.unsqueeze(-1) has shape (2000, 1), and p has shape\n",
    "# (3,), for this case, broadcasting semantics will apply to obtain a tensor\n",
    "# of shape (2000, 3) \n",
    "\n",
    "# Use the nn package to define our model as a sequence of layers. nn.Sequential\n",
    "# is a Module which contains other Modules, and applies them in sequence to\n",
    "# produce its output. The Linear Module computes output from input using a\n",
    "# linear function, and holds internal Tensors for its weight and bias.\n",
    "# The Flatten layer flatens the output of the linear layer to a 1D tensor,\n",
    "# to match the shape of `y`.\n",
    "model = torch.nn.Sequential(\n",
    "    torch.nn.Linear(3, 1),\n",
    "    torch.nn.Flatten(0, 1)\n",
    ")\n",
    "\n",
    "# The nn package also contains definitions of popular loss functions; in this\n",
    "# case we will use Mean Squared Error (MSE) as our loss function.\n",
    "loss_fn = torch.nn.MSELoss(reduction='sum')\n",
    "\n",
    "learning_rate = 1e-6\n",
    "for t in range(2000):\n",
    "\n",
    "    # Forward pass: compute predicted y by passing x to the model. Module objects\n",
    "    # override the __call__ operator so you can call them like functions. When\n",
    "    # doing so you pass a Tensor of input data to the Module and it produces\n",
    "    # a Tensor of output data.\n",
    "    y_pred = model(xx)\n",
    "\n",
    "    # Compute and print loss. We pass Tensors containing the predicted and true\n",
    "    # values of y, and the loss function returns a Tensor containing the\n",
    "    # loss.\n",
    "    loss = loss_fn(y_pred, y)\n",
    "    if t % 100 == 99:\n",
    "        print(t, loss.item())\n",
    "\n",
    "    # Zero the gradients before running the backward pass.\n",
    "    model.zero_grad()\n",
    "\n",
    "    # Backward pass: compute gradient of the loss with respect to all the learnable\n",
    "    # parameters of the model. Internally, the parameters of each Module are stored\n",
    "    # in Tensors with requires_grad=True, so this call will compute gradients for\n",
    "    # all learnable parameters in the model.\n",
    "    loss.backward()\n",
    "\n",
    "    # Update the weights using gradient descent. Each parameter is a Tensor, so\n",
    "    # we can access its gradients like we did before.\n",
    "    with torch.no_grad():\n",
    "        for param in model.parameters():\n",
    "            param -= learning_rate * param.grad\n",
    "\n",
    "# You can access the first layer of `model` like accessing the first item of a list\n",
    "linear_layer = model[0]\n",
    "\n",
    "# For linear layer, its parameters are stored as `weight` and `bias`.\n",
    "print(f'Result: y = {linear_layer.bias.item()} + {linear_layer.weight[:, 0].item()} x + {linear_layer.weight[:, 1].item()} x^2 + {linear_layer.weight[:, 2].item()} x^3')"
   ]
  },
  {
   "cell_type": "markdown",
   "metadata": {},
   "source": [
    "## Observations"
   ]
  },
  {
   "cell_type": "markdown",
   "metadata": {},
   "source": [
    "p = torch.tensor([1,2,3])\n",
    "\n",
    "This represents the powers for the tensor xx, which is just a transformation of the data stored in x.\n",
    "\n",
    "<p style=\"text-align: center;\">xx = x.unsqueeze(-1).pow(p)</p>\n",
    "\n",
    "The unsqueeze method is used to change the dimensions of the tensor that is being past. Without the unsqueeze method the data will resemble size [2000] rather than size [2000, 1]. This is a necessary transformation because of the application of p.\n",
    "\n",
    "<p style=\"text-align: center;\">model = torch.nn.Sequential(<br>\n",
    "    torch.nn.Linear(3, 1),<br>\n",
    "    torch.nn.Flatten(0, 1)<br>\n",
    ")</p>\n",
    "\n",
    "The previous code describes the construction of a model with 3 inputs parameters(x^1, x^2, x^3) and one output. \"torch.nn.Sequential\" is a container that applies operations in the order that it is past to the constructor. The Linear layer describes a single hidden layer that is takes in the input parameters and outputs a tensor for the approximator. The \"torch.nn.Flatten\" command is utilized to create a value that matches the shape of the true solution, y.\n",
    "\n",
    "<p style=\"text-align: center;\">loss_fn = torch.nn.MSELoss(reduction='sum')<br>\n",
    "    loss = loss_fn(y_pred, y)</p>\n",
    "\n",
    "The previous section of code describes the computation of the loss function using the predicted data and the true solution, y.\n",
    "\n",
    "This section of code represents changes iteratively to weights utilizing the gradient:\n",
    "<p style=\"text-align: center;\">with torch.no_grad():<br>\n",
    "        for param in model.parameters():<br>\n",
    "            param -= learning_rate * param.grad</p>"
   ]
  },
  {
   "cell_type": "code",
   "execution_count": null,
   "metadata": {},
   "outputs": [],
   "source": []
  }
 ],
 "metadata": {
  "kernelspec": {
   "display_name": "Python 3",
   "language": "python",
   "name": "python3"
  },
  "language_info": {
   "codemirror_mode": {
    "name": "ipython",
    "version": 3
   },
   "file_extension": ".py",
   "mimetype": "text/x-python",
   "name": "python",
   "nbconvert_exporter": "python",
   "pygments_lexer": "ipython3",
   "version": "3.8.5"
  }
 },
 "nbformat": 4,
 "nbformat_minor": 4
}
